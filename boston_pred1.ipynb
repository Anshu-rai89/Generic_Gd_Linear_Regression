{
 "cells": [
  {
   "cell_type": "code",
   "execution_count": 3,
   "metadata": {},
   "outputs": [],
   "source": [
    "import pandas as pd\n",
    "import numpy as np\n",
    "from sklearn import preprocessing"
   ]
  },
  {
   "cell_type": "code",
   "execution_count": 5,
   "metadata": {},
   "outputs": [
    {
     "name": "stdout",
     "output_type": "stream",
     "text": [
      "(379, 14)\n",
      "(379, 13)\n",
      "(379,)\n",
      "(127, 13)\n"
     ]
    }
   ],
   "source": [
    "test_data=np.genfromtxt(\"boston_train\",delimiter=\",\")\n",
    "x_test=np.genfromtxt(\"0000000000002417_test_boston_x_test.csv\",delimiter=\",\")\n",
    "print(test_data.shape)\n",
    "x_train=test_data[:,:13]\n",
    "y_train=test_data[:,13]\n",
    "print(x_train.shape)\n",
    "print(y_train.shape)\n",
    "print(x_test.shape)"
   ]
  },
  {
   "cell_type": "code",
   "execution_count": 6,
   "metadata": {},
   "outputs": [],
   "source": [
    "scaler_x=preprocessing.StandardScaler()\n",
    "scaler_x.fit(x_train)\n",
    "x_train=scaler_x.transform(x_train)\n",
    "x_test=scaler_x.transform(x_test)\n",
    "x_train = np.append(x_train,np.ones((x_train.shape[0],1)),axis=1)\n",
    "x_test = np.append(x_test,np.ones((x_test.shape[0],1)),axis=1)"
   ]
  },
  {
   "cell_type": "code",
   "execution_count": 7,
   "metadata": {},
   "outputs": [],
   "source": [
    "def sgd(x_train,y_train,learning_rate,m):\n",
    "    m_slope=np.zeros(x_train.shape[1])\n",
    "    n=len(x_train)\n",
    "    for i in range(n):\n",
    "        x=x_train[i]\n",
    "        y=y_train[i]\n",
    "        ans=0\n",
    "        for k in range(x_train.shape[1]):\n",
    "            ans+=m[k]*x[k] \n",
    "        for j in range(x_train.shape[1]):\n",
    "            m_slope[j]+=(-2/n)*(y-ans)*x[j]\n",
    "    new_m=m-learning_rate*m_slope\n",
    "    return new_m"
   ]
  },
  {
   "cell_type": "code",
   "execution_count": 8,
   "metadata": {},
   "outputs": [],
   "source": [
    "def gd(x_train,y_train,learning_rate,iterations):\n",
    "    m=np.zeros(x_train.shape[1])\n",
    "    for i in range(iterations):\n",
    "        m=sgd(x_train,y_train,learning_rate,m)\n",
    "        if(i%10==0):\n",
    "            print(i,\"cost is \",cost(x_train,y_train,m))\n",
    "    return m"
   ]
  },
  {
   "cell_type": "code",
   "execution_count": 9,
   "metadata": {},
   "outputs": [],
   "source": [
    "def cost(x_train,y_train, m):\n",
    "    total_cost = 0\n",
    "    M = len(x_train)\n",
    "    for i in range(M):\n",
    "        x = x_train[i]\n",
    "        y = y_train[i]\n",
    "        total_cost+= (1/M)*((y - (m*x).sum())**2)\n",
    "\n",
    "    return total_cost"
   ]
  },
  {
   "cell_type": "code",
   "execution_count": 10,
   "metadata": {},
   "outputs": [],
   "source": [
    "def run():\n",
    "    learning_rate=0.05\n",
    "    iterations=100\n",
    "    m=gd(x_train,y_train,learning_rate,iterations)\n",
    "\n",
    "    return m"
   ]
  },
  {
   "cell_type": "code",
   "execution_count": 13,
   "metadata": {},
   "outputs": [
    {
     "name": "stdout",
     "output_type": "stream",
     "text": [
      "0 cost is  469.02446650514304\n",
      "10 cost is  78.289239301101\n",
      "20 cost is  31.59083606130852\n",
      "30 cost is  25.524775892227105\n",
      "40 cost is  24.50348164864918\n",
      "50 cost is  24.184119265343003\n",
      "60 cost is  24.00798059954136\n",
      "70 cost is  23.88769225475729\n",
      "80 cost is  23.800386119237107\n",
      "90 cost is  23.735324461565448\n",
      "[-8.88375837e-01  4.71634294e-01 -3.76336778e-01  8.57374197e-01\n",
      " -1.72228195e+00  2.54993395e+00  1.86368464e-02 -2.67249975e+00\n",
      "  1.52433774e+00 -6.84872987e-01 -2.13844353e+00  6.01521912e-01\n",
      " -4.24556042e+00  2.26088981e+01]\n",
      "y shape is (127,)\n"
     ]
    }
   ],
   "source": [
    "\n",
    "m=run()\n",
    "print(m)\n",
    "n=len(x_test)\n",
    "y=np.zeros(n)\n",
    "print(\"y shape is\",y.shape)\n",
    "for i in range(n):\n",
    "    x=x_test[i]\n",
    "    y[i]=(m*x).sum()\n",
    "finalans=y\n",
    "np.savetxt(\"boston_prediction.csv\", finalans,delimiter = \",\",fmt='%1.5f')\n"
   ]
  },
  {
   "cell_type": "code",
   "execution_count": null,
   "metadata": {},
   "outputs": [],
   "source": []
  }
 ],
 "metadata": {
  "kernelspec": {
   "display_name": "Python 3",
   "language": "python",
   "name": "python3"
  },
  "language_info": {
   "codemirror_mode": {
    "name": "ipython",
    "version": 3
   },
   "file_extension": ".py",
   "mimetype": "text/x-python",
   "name": "python",
   "nbconvert_exporter": "python",
   "pygments_lexer": "ipython3",
   "version": "3.7.1"
  }
 },
 "nbformat": 4,
 "nbformat_minor": 2
}
